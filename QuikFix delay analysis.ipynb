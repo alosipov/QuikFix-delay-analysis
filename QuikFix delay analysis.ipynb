{
 "cells": [
  {
   "cell_type": "code",
   "execution_count": 24,
   "metadata": {},
   "outputs": [
    {
     "name": "stdout",
     "output_type": "stream",
     "text": [
      "59793\n"
     ]
    },
    {
     "data": {
      "image/png": "[encoded data removed]",
      "text/plain": [
       "<Figure size 1152x720 with 1 Axes>"
      ]
     },
     "metadata": {
      "needs_background": "light"
     },
     "output_type": "display_data"
    }
   ],
   "source": [
    "import re\n",
    "import pandas as pd\n",
    "import matplotlib.pyplot as plt\n",
    "import numpy as np\n",
    "from matplotlib.pyplot import figure\n",
    "from matplotlib import cm\n",
    "from datetime import datetime\n",
    "from datetime import timedelta\n",
    "import random\n",
    "\n",
    "\n",
    "import os\n",
    "'''print os.listdir(\"C:\\\\temp\\\\\")'''\n",
    "\n",
    "xcoords = []\n",
    "with open('C:\\\\temp\\\\QuikFix.log.d', 'r') as f:   \n",
    "    \n",
    "    while f.readline():\n",
    "        l=f.readline()\n",
    "        if l.find(\"35=8\")>0:\n",
    "            localtime=l[10:22]\n",
    "            p=l.find(\"60=\",0)\n",
    "            fixtime=l[p+12:p+24]\n",
    "            \n",
    "            #print localtime, fixtime\n",
    "            FMT = '%H:%M:%S.%f'\n",
    "            \n",
    "            \n",
    "            tdelta = datetime.strptime(localtime, FMT) - datetime.strptime(fixtime, FMT)\n",
    "            #print 'tdelta = ', tdelta\n",
    "            hd = timedelta(hours=3)\n",
    "            td = tdelta - hd  \n",
    "            #print '- 3 hours = ', td\n",
    "            if str(td) != '0:00:00':\n",
    "                a = datetime.strptime(str(td), '%H:%M:%S.%f')\n",
    "                s = a.strftime('%H:%M:%S.%f')\n",
    "                b = s[-6:-3]\n",
    "                xcoords.append(int(b))\n",
    "                \n",
    "#print xcoords\n",
    "print len(xcoords)\n",
    "#print xcoords[0:1001]\n",
    "number_of_colors = 59793\n",
    "\n",
    "colors = [\"#\"+''.join([random.choice('0123456789ABCDEF') for j in range(6)]) for i in range(number_of_colors)]\n",
    "\n",
    "# for xc,c in zip(xcoords[0:5],colors):\n",
    "#     plt.axhline(y=xc, c=c, linestyle='-')\n",
    "\n",
    "# plt.show()\n",
    "#color = cm.inferno_r(np.linspace(.4,.8, 30))\n",
    "#print type(color)\n",
    "x = xcoords\n",
    "#print x\n",
    "plot = pd.DataFrame(x).plot(kind='bar', color=[colors], label=None, legend=None, figsize=(16,10)).axhline(y=1000, color='red', linewidth=5, snap=False)\n",
    "frame1 = plt.gca()\n",
    "frame1.axes.get_xaxis().set_visible(False)   \n",
    "      "
   ]
  },
  {
   "cell_type": "code",
   "execution_count": 17,
   "metadata": {},
   "outputs": [
    {
     "name": "stdout",
     "output_type": "stream",
     "text": [
      "71167\n",
      "71167\n"
     ]
    },
    {
     "data": {
      "image/png": "[encoded data removed]",
      "text/plain": [
       "<Figure size 432x288 with 1 Axes>"
      ]
     },
     "metadata": {
      "needs_background": "light"
     },
     "output_type": "display_data"
    }
   ],
   "source": [
    "import pandas as pd\n",
    "from IPython.display import display, HTML\n",
    "import webbrowser\n",
    "from datetime import datetime, timedelta\n",
    "import numpy as np\n",
    "import random\n",
    "import matplotlib.pyplot as plt\n",
    "\n",
    "listOfLTime = []\n",
    "listOfFTime = []\n",
    "\n",
    "with open('C:\\\\temp\\\\QuikFix.log', 'r') as f:\n",
    "    #i = 0\n",
    "    while f.readline():\n",
    "        #if i < 2:\n",
    "            line = f.readline()\n",
    "            if line.find(\"35=8\")>0:\n",
    "                #line = line.replace('\\x01', r' , ')\n",
    "                localTime = line[10:22]\n",
    "                localTime = datetime.strptime(localTime, '%H:%M:%S.%f')\n",
    "                listOfLTime.append(localTime)\n",
    "                p = line.find(\"60=\",0)\n",
    "                fixtime = line[p+12:p+24]\n",
    "                fixtime = datetime.strptime(fixtime, '%H:%M:%S.%f')\n",
    "                listOfFTime.append(fixtime)\n",
    "                #i = i +1\n",
    "            #else:\n",
    "                #break\n",
    "        \n",
    "print len(listOfLTime)\n",
    "print len(listOfFTime)\n",
    "# l = listOfLTime[0:11]\n",
    "# fixt = listOfFTime[0:11]\n",
    "\n",
    "l = listOfLTime\n",
    "fixt = listOfFTime\n",
    "\n",
    "df = pd.DataFrame({'LocalTime': l, 'Fix 60 tag time': fixt})\n",
    "df = df.reindex(columns=['LocalTime','Fix 60 tag time'])\n",
    "# df['LocalTime'] = pd.to_datetime(df['LocalTime'], format=\"%H:%M:%S.%f\").apply(lambda x: x.time())\n",
    "# df['Fix 60 tag time'] = pd.to_datetime(df['Fix 60 tag time'], format=\"%H:%M:%S.%f\").apply(lambda x: x.time())\n",
    "offset = timedelta(hours=3)\n",
    "df['LocalTime'] = df['LocalTime'] - offset\n",
    "\n",
    "df['diff_seconds'] = df['LocalTime'] - df['Fix 60 tag time']\n",
    "df['diff_seconds'] = df['diff_seconds']/np.timedelta64(1,'s')\n",
    "\n",
    "#display(HTML(df.to_html()))\n",
    "rslt_df = df[df['diff_seconds'] > 1.000] \n",
    "rslt_df.to_html(\"frame.html\")\n",
    "url = \"http://localhost:8888/view/frame.html\"\n",
    "webbrowser.open(url,new=2)\n",
    "\n",
    "\n",
    "# df['diff_seconds'].to_html(\"frame.html\")\n",
    "# url = \"http://localhost:8888/view/frame.html\"\n",
    "# webbrowser.open(url,new=2)\n",
    "\n",
    "number_of_colors = 100\n",
    "\n",
    "colors = [\"#\"+''.join([random.choice('0123456789ABCDEF') for j in range(6)]) for i in range(number_of_colors)]\n",
    "\n",
    "x = rslt_df['diff_seconds'] \n",
    "plot = pd.DataFrame(x).plot(kind='bar', color=[colors], label=None, legend=None).axhline(y=1.0, color='red', linewidth=5, snap=False)\n",
    "frame1 = plt.gca()\n",
    "frame1.axes.get_xaxis().set_visible(False)"
   ]
  },
  {
   "cell_type": "code",
   "execution_count": null,
   "metadata": {},
   "outputs": [],
   "source": []
  }
 ],
 "metadata": {
  "kernelspec": {
   "display_name": "Python 2",
   "language": "python",
   "name": "python2"
  },
  "language_info": {
   "codemirror_mode": {
    "name": "ipython",
    "version": 2
   },
   "file_extension": ".py",
   "mimetype": "text/x-python",
   "name": "python",
   "nbconvert_exporter": "python",
   "pygments_lexer": "ipython2",
   "version": "2.7.16"
  }
 },
 "nbformat": 4,
 "nbformat_minor": 2
}
